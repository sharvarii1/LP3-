{
  "metadata": {
    "kernelspec": {
      "name": "python",
      "display_name": "Python (Pyodide)",
      "language": "python"
    },
    "language_info": {
      "codemirror_mode": {
        "name": "python",
        "version": 3
      },
      "file_extension": ".py",
      "mimetype": "text/x-python",
      "name": "python",
      "nbconvert_exporter": "python",
      "pygments_lexer": "ipython3",
      "version": "3.8"
    }
  },
  "nbformat_minor": 4,
  "nbformat": 4,
  "cells": [
    {
      "cell_type": "code",
      "source": "import pandas as pd\n",
      "metadata": {
        "trusted": true
      },
      "outputs": [],
      "execution_count": 6
    },
    {
      "cell_type": "code",
      "source": "df =pd.read_csv('emails.csv')",
      "metadata": {
        "trusted": true
      },
      "outputs": [],
      "execution_count": 7
    },
    {
      "cell_type": "code",
      "source": "df",
      "metadata": {
        "trusted": true
      },
      "outputs": [
        {
          "execution_count": 8,
          "output_type": "execute_result",
          "data": {
            "text/plain": "       Email No.  the  to  ect  and  for  of    a  you  hou  ...  connevey  \\\n0        Email 1    0   0    1    0    0   0    2    0    0  ...         0   \n1        Email 2    8  13   24    6    6   2  102    1   27  ...         0   \n2        Email 3    0   0    1    0    0   0    8    0    0  ...         0   \n3        Email 4    0   5   22    0    5   1   51    2   10  ...         0   \n4        Email 5    7   6   17    1    5   2   57    0    9  ...         0   \n...          ...  ...  ..  ...  ...  ...  ..  ...  ...  ...  ...       ...   \n5167  Email 5168    2   2    2    3    0   0   32    0    0  ...         0   \n5168  Email 5169   35  27   11    2    6   5  151    4    3  ...         0   \n5169  Email 5170    0   0    1    1    0   0   11    0    0  ...         0   \n5170  Email 5171    2   7    1    0    2   1   28    2    0  ...         0   \n5171  Email 5172   22  24    5    1    6   5  148    8    2  ...         0   \n\n      jay  valued  lay  infrastructure  military  allowing  ff  dry  \\\n0       0       0    0               0         0         0   0    0   \n1       0       0    0               0         0         0   1    0   \n2       0       0    0               0         0         0   0    0   \n3       0       0    0               0         0         0   0    0   \n4       0       0    0               0         0         0   1    0   \n...   ...     ...  ...             ...       ...       ...  ..  ...   \n5167    0       0    0               0         0         0   0    0   \n5168    0       0    0               0         0         0   1    0   \n5169    0       0    0               0         0         0   0    0   \n5170    0       0    0               0         0         0   1    0   \n5171    0       0    0               0         0         0   0    0   \n\n      Prediction  \n0              0  \n1              0  \n2              0  \n3              0  \n4              0  \n...          ...  \n5167           0  \n5168           0  \n5169           1  \n5170           1  \n5171           0  \n\n[5172 rows x 3002 columns]",
            "text/html": "<div>\n<style scoped>\n    .dataframe tbody tr th:only-of-type {\n        vertical-align: middle;\n    }\n\n    .dataframe tbody tr th {\n        vertical-align: top;\n    }\n\n    .dataframe thead th {\n        text-align: right;\n    }\n</style>\n<table border=\"1\" class=\"dataframe\">\n  <thead>\n    <tr style=\"text-align: right;\">\n      <th></th>\n      <th>Email No.</th>\n      <th>the</th>\n      <th>to</th>\n      <th>ect</th>\n      <th>and</th>\n      <th>for</th>\n      <th>of</th>\n      <th>a</th>\n      <th>you</th>\n      <th>hou</th>\n      <th>...</th>\n      <th>connevey</th>\n      <th>jay</th>\n      <th>valued</th>\n      <th>lay</th>\n      <th>infrastructure</th>\n      <th>military</th>\n      <th>allowing</th>\n      <th>ff</th>\n      <th>dry</th>\n      <th>Prediction</th>\n    </tr>\n  </thead>\n  <tbody>\n    <tr>\n      <th>0</th>\n      <td>Email 1</td>\n      <td>0</td>\n      <td>0</td>\n      <td>1</td>\n      <td>0</td>\n      <td>0</td>\n      <td>0</td>\n      <td>2</td>\n      <td>0</td>\n      <td>0</td>\n      <td>...</td>\n      <td>0</td>\n      <td>0</td>\n      <td>0</td>\n      <td>0</td>\n      <td>0</td>\n      <td>0</td>\n      <td>0</td>\n      <td>0</td>\n      <td>0</td>\n      <td>0</td>\n    </tr>\n    <tr>\n      <th>1</th>\n      <td>Email 2</td>\n      <td>8</td>\n      <td>13</td>\n      <td>24</td>\n      <td>6</td>\n      <td>6</td>\n      <td>2</td>\n      <td>102</td>\n      <td>1</td>\n      <td>27</td>\n      <td>...</td>\n      <td>0</td>\n      <td>0</td>\n      <td>0</td>\n      <td>0</td>\n      <td>0</td>\n      <td>0</td>\n      <td>0</td>\n      <td>1</td>\n      <td>0</td>\n      <td>0</td>\n    </tr>\n    <tr>\n      <th>2</th>\n      <td>Email 3</td>\n      <td>0</td>\n      <td>0</td>\n      <td>1</td>\n      <td>0</td>\n      <td>0</td>\n      <td>0</td>\n      <td>8</td>\n      <td>0</td>\n      <td>0</td>\n      <td>...</td>\n      <td>0</td>\n      <td>0</td>\n      <td>0</td>\n      <td>0</td>\n      <td>0</td>\n      <td>0</td>\n      <td>0</td>\n      <td>0</td>\n      <td>0</td>\n      <td>0</td>\n    </tr>\n    <tr>\n      <th>3</th>\n      <td>Email 4</td>\n      <td>0</td>\n      <td>5</td>\n      <td>22</td>\n      <td>0</td>\n      <td>5</td>\n      <td>1</td>\n      <td>51</td>\n      <td>2</td>\n      <td>10</td>\n      <td>...</td>\n      <td>0</td>\n      <td>0</td>\n      <td>0</td>\n      <td>0</td>\n      <td>0</td>\n      <td>0</td>\n      <td>0</td>\n      <td>0</td>\n      <td>0</td>\n      <td>0</td>\n    </tr>\n    <tr>\n      <th>4</th>\n      <td>Email 5</td>\n      <td>7</td>\n      <td>6</td>\n      <td>17</td>\n      <td>1</td>\n      <td>5</td>\n      <td>2</td>\n      <td>57</td>\n      <td>0</td>\n      <td>9</td>\n      <td>...</td>\n      <td>0</td>\n      <td>0</td>\n      <td>0</td>\n      <td>0</td>\n      <td>0</td>\n      <td>0</td>\n      <td>0</td>\n      <td>1</td>\n      <td>0</td>\n      <td>0</td>\n    </tr>\n    <tr>\n      <th>...</th>\n      <td>...</td>\n      <td>...</td>\n      <td>...</td>\n      <td>...</td>\n      <td>...</td>\n      <td>...</td>\n      <td>...</td>\n      <td>...</td>\n      <td>...</td>\n      <td>...</td>\n      <td>...</td>\n      <td>...</td>\n      <td>...</td>\n      <td>...</td>\n      <td>...</td>\n      <td>...</td>\n      <td>...</td>\n      <td>...</td>\n      <td>...</td>\n      <td>...</td>\n      <td>...</td>\n    </tr>\n    <tr>\n      <th>5167</th>\n      <td>Email 5168</td>\n      <td>2</td>\n      <td>2</td>\n      <td>2</td>\n      <td>3</td>\n      <td>0</td>\n      <td>0</td>\n      <td>32</td>\n      <td>0</td>\n      <td>0</td>\n      <td>...</td>\n      <td>0</td>\n      <td>0</td>\n      <td>0</td>\n      <td>0</td>\n      <td>0</td>\n      <td>0</td>\n      <td>0</td>\n      <td>0</td>\n      <td>0</td>\n      <td>0</td>\n    </tr>\n    <tr>\n      <th>5168</th>\n      <td>Email 5169</td>\n      <td>35</td>\n      <td>27</td>\n      <td>11</td>\n      <td>2</td>\n      <td>6</td>\n      <td>5</td>\n      <td>151</td>\n      <td>4</td>\n      <td>3</td>\n      <td>...</td>\n      <td>0</td>\n      <td>0</td>\n      <td>0</td>\n      <td>0</td>\n      <td>0</td>\n      <td>0</td>\n      <td>0</td>\n      <td>1</td>\n      <td>0</td>\n      <td>0</td>\n    </tr>\n    <tr>\n      <th>5169</th>\n      <td>Email 5170</td>\n      <td>0</td>\n      <td>0</td>\n      <td>1</td>\n      <td>1</td>\n      <td>0</td>\n      <td>0</td>\n      <td>11</td>\n      <td>0</td>\n      <td>0</td>\n      <td>...</td>\n      <td>0</td>\n      <td>0</td>\n      <td>0</td>\n      <td>0</td>\n      <td>0</td>\n      <td>0</td>\n      <td>0</td>\n      <td>0</td>\n      <td>0</td>\n      <td>1</td>\n    </tr>\n    <tr>\n      <th>5170</th>\n      <td>Email 5171</td>\n      <td>2</td>\n      <td>7</td>\n      <td>1</td>\n      <td>0</td>\n      <td>2</td>\n      <td>1</td>\n      <td>28</td>\n      <td>2</td>\n      <td>0</td>\n      <td>...</td>\n      <td>0</td>\n      <td>0</td>\n      <td>0</td>\n      <td>0</td>\n      <td>0</td>\n      <td>0</td>\n      <td>0</td>\n      <td>1</td>\n      <td>0</td>\n      <td>1</td>\n    </tr>\n    <tr>\n      <th>5171</th>\n      <td>Email 5172</td>\n      <td>22</td>\n      <td>24</td>\n      <td>5</td>\n      <td>1</td>\n      <td>6</td>\n      <td>5</td>\n      <td>148</td>\n      <td>8</td>\n      <td>2</td>\n      <td>...</td>\n      <td>0</td>\n      <td>0</td>\n      <td>0</td>\n      <td>0</td>\n      <td>0</td>\n      <td>0</td>\n      <td>0</td>\n      <td>0</td>\n      <td>0</td>\n      <td>0</td>\n    </tr>\n  </tbody>\n</table>\n<p>5172 rows × 3002 columns</p>\n</div>"
          },
          "metadata": {}
        }
      ],
      "execution_count": 8
    },
    {
      "cell_type": "code",
      "source": "df.isnull().sum()",
      "metadata": {
        "trusted": true
      },
      "outputs": [
        {
          "execution_count": 9,
          "output_type": "execute_result",
          "data": {
            "text/plain": "Email No.     0\nthe           0\nto            0\nect           0\nand           0\n             ..\nmilitary      0\nallowing      0\nff            0\ndry           0\nPrediction    0\nLength: 3002, dtype: int64"
          },
          "metadata": {}
        }
      ],
      "execution_count": 9
    },
    {
      "cell_type": "code",
      "source": "z=df.drop('Email No.' ,axis=1)\nx=z.drop('Prediction', axis=1)\ny=df['Prediction']",
      "metadata": {
        "trusted": true
      },
      "outputs": [],
      "execution_count": 20
    },
    {
      "cell_type": "code",
      "source": "from sklearn.model_selection import train_test_split\nx_train,x_test,y_train,y_test=train_test_split(x,y,random_state=42,test_size=0.2)",
      "metadata": {
        "trusted": true
      },
      "outputs": [],
      "execution_count": 21
    },
    {
      "cell_type": "code",
      "source": "x_train.shape",
      "metadata": {
        "trusted": true
      },
      "outputs": [
        {
          "execution_count": 22,
          "output_type": "execute_result",
          "data": {
            "text/plain": "(4137, 3000)"
          },
          "metadata": {}
        }
      ],
      "execution_count": 22
    },
    {
      "cell_type": "code",
      "source": "x_test.shape",
      "metadata": {
        "trusted": true
      },
      "outputs": [
        {
          "execution_count": 23,
          "output_type": "execute_result",
          "data": {
            "text/plain": "(1035, 3000)"
          },
          "metadata": {}
        }
      ],
      "execution_count": 23
    },
    {
      "cell_type": "code",
      "source": "from  sklearn.neighbors import KNeighborsClassifier",
      "metadata": {
        "trusted": true
      },
      "outputs": [],
      "execution_count": 28
    },
    {
      "cell_type": "code",
      "source": "knn=KNeighborsClassifier(n_neighbors=5)\nmodel=knn.fit(x_train,y_train)\nknn_predictions=knn.predict(x_test)",
      "metadata": {
        "trusted": true
      },
      "outputs": [],
      "execution_count": 30
    },
    {
      "cell_type": "code",
      "source": "from sklearn.metrics import classification_report, accuracy_score, confusion_matrix\n\nprint(\"KNN Performance\")\nprint(classification_report(y_test, knn_predictions))\nprint(\"\\n-------------------------------------------------\")\nprint(\"Accuracy:\", accuracy_score(y_test, knn_predictions))\nprint(\"\\n-------------------------------------------------\")\nprint(\"Confusion Matrix:\\n\", confusion_matrix(y_test, knn_predictions))",
      "metadata": {
        "trusted": true
      },
      "outputs": [
        {
          "name": "stdout",
          "text": "KNN Performance\n              precision    recall  f1-score   support\n\n           0       0.93      0.87      0.90       739\n           1       0.73      0.84      0.78       296\n\n    accuracy                           0.86      1035\n   macro avg       0.83      0.86      0.84      1035\nweighted avg       0.87      0.86      0.87      1035\n\n\n-------------------------------------------------\nAccuracy: 0.8628019323671497\n\n-------------------------------------------------\nConfusion Matrix:\n [[645  94]\n [ 48 248]]\n",
          "output_type": "stream"
        }
      ],
      "execution_count": 31
    },
    {
      "cell_type": "code",
      "source": "from sklearn.svm import SVC\nsvm=SVC(kernel='rbf')\nsvm.fit(x_train,y_train)\nsvm_predictions=svm.predict(x_test)",
      "metadata": {
        "trusted": true
      },
      "outputs": [],
      "execution_count": 37
    },
    {
      "cell_type": "code",
      "source": "print(\"\\nSVM Performance\")\nprint(classification_report(y_test, svm_predictions))\nprint(\"\\n-------------------------------------------------\")\nprint(\"Accuracy:\", accuracy_score(y_test, svm_predictions))\nprint(\"\\n-------------------------------------------------\")\nprint(\"Confusion Matrix:\\n\", confusion_matrix(y_test, svm_predictions))",
      "metadata": {
        "trusted": true
      },
      "outputs": [
        {
          "name": "stdout",
          "text": "\nSVM Performance\n              precision    recall  f1-score   support\n\n           0       0.80      0.98      0.88       739\n           1       0.91      0.40      0.56       296\n\n    accuracy                           0.82      1035\n   macro avg       0.86      0.69      0.72      1035\nweighted avg       0.83      0.82      0.79      1035\n\n\n-------------------------------------------------\nAccuracy: 0.8173913043478261\n\n-------------------------------------------------\nConfusion Matrix:\n [[727  12]\n [177 119]]\n",
          "output_type": "stream"
        }
      ],
      "execution_count": 38
    },
    {
      "cell_type": "code",
      "source": "",
      "metadata": {
        "trusted": true
      },
      "outputs": [],
      "execution_count": null
    }
  ]
}