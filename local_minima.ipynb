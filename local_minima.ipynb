{
  "metadata": {
    "kernelspec": {
      "name": "python",
      "display_name": "Python (Pyodide)",
      "language": "python"
    },
    "language_info": {
      "codemirror_mode": {
        "name": "python",
        "version": 3
      },
      "file_extension": ".py",
      "mimetype": "text/x-python",
      "name": "python",
      "nbconvert_exporter": "python",
      "pygments_lexer": "ipython3",
      "version": "3.8"
    }
  },
  "nbformat_minor": 4,
  "nbformat": 4,
  "cells": [
    {
      "cell_type": "code",
      "source": "x=2\nlr=0.01\nprecision=0.000001\nprevious_step_size=1\nmax_iteration=100\niters=0\ngf=lambda x:(x+3)**2",
      "metadata": {
        "trusted": true
      },
      "outputs": [],
      "execution_count": 5
    },
    {
      "cell_type": "code",
      "source": "while precision< previous_step_size and iters< max_iteration:\n    prev=x\n    x=x-lr*gf(prev)\n    previous_step_size=abs(x-prev)\n    iters+=1\n    print(\"iterations\",iters,\"value\",x)",
      "metadata": {
        "trusted": true
      },
      "outputs": [
        {
          "name": "stdout",
          "text": "iterations 1 value 1.75\niterations 2 value 1.524375\niterations 3 value 1.31967530859375\niterations 4 value 1.133079360877005\niterations 5 value 0.9622559108439301\niterations 6 value 0.8052611918137536\niterations 7 value 0.6604610644345152\niterations 8 value 0.5264713123921045\niterations 9 value 0.4021113132208596\niterations 10 value 0.28636769934540596\niterations 11 value 0.1783655727923978\niterations 12 value 0.07734549564927831\niterations 13 value -0.017355057346650715\niterations 14 value -0.10631676588600673\niterations 15 value -0.19005079247993095\niterations 16 value -0.26900893796835756\niterations 17 value -0.34359205977732477\niterations 18 value -0.41415709122610556\niterations 19 value -0.4810229267146679\niterations 20 value -0.5444753816720392\niterations 21 value -0.604771393184186\niterations 22 value -0.6621425939732744\niterations 23 value -0.7167983664824145\niterations 24 value -0.7689284634753881\niterations 25 value -0.8187052654862911\niterations 26 value -0.8662857326744634\niterations 27 value -0.911813098420349\niterations 28 value -0.9554183437796372\niterations 29 value -0.9972214852691652\niterations 30 value -1.0373327030598396\niterations 31 value -1.0758533322446235\niterations 32 value -1.1128767362349647\niterations 33 value -1.1484890783613968\niterations 34 value -1.1827700052908672\niterations 35 value -1.2157932538275726\niterations 36 value -1.2476271909584447\niterations 37 value -1.2783352955771266\niterations 38 value -1.3079765891216815\niterations 39 value -1.3366060213512845\niterations 40 value -1.3642748166333325\niterations 41 value -1.3910307853883317\niterations 42 value -1.4169186047240125\niterations 43 value -1.4419800717647022\niterations 44 value -1.4662543327324855\niterations 45 value -1.4897780904511042\niterations 46 value -1.5125857926119193\niterations 47 value -1.5347098028553183\niterations 48 value -1.5561805564738014\niterations 49 value -1.5770267023288445\niterations 50 value -1.5972752323876958\niterations 51 value -1.6169516001244257\niterations 52 value -1.6360798288884095\niterations 53 value -1.6546826112200603\niterations 54 value -1.6727813999855972\niterations 55 value -1.6903964921078392\niterations 56 value -1.7075471055866738\niterations 57 value -1.7242514504294477\niterations 58 value -1.7405267940467615\niterations 59 value -1.7563895216119028\niterations 60 value -1.7718551918314696\niterations 61 value -1.7869385885297828\niterations 62 value -1.801653768409764\niterations 63 value -1.8160141053174292\niterations 64 value -1.830032331305502\niterations 65 value -1.8437205747634065\niterations 66 value -1.857090395855661\niterations 67 value -1.8701528194881147\niterations 68 value -1.8829183660012212\niterations 69 value -1.895397079771395\niterations 70 value -1.9075985558851707\niterations 71 value -1.9195319650362124\niterations 72 value -1.9312060767819974\niterations 73 value -1.9426292812850747\niterations 74 value -1.953809609653032\niterations 75 value -1.9647547529815754\niterations 76 value -1.975472080196318\niterations 77 value -1.9859686547808906\niterations 78 value -1.9962512504717593\niterations 79 value -2.006326365993554\niterations 80 value -2.01620023890275\niterations 81 value -2.0258788586021\niterations 82 value -2.0353679785832837\niterations 83 value -2.0446731279507087\niterations 84 value -2.0537996222753034\niterations 85 value -2.062752573823367\niterations 86 value -2.0715369012021143\niterations 87 value -2.080157338460408\niterations 88 value -2.08861844368029\niterations 89 value -2.0969246070922876\niterations 90 value -2.105080058745042\niterations 91 value -2.1130888757575996\niterations 92 value -2.1209549891806487\niterations 93 value -2.1286821904911126\niterations 94 value -2.1362741377427863\niterations 95 value -2.143734361394106\niterations 96 value -2.1510662698326777\niterations 97 value -2.158273154614836\niterations 98 value -2.1653581954372565\niterations 99 value -2.172324464856494\niterations 100 value -2.179174932771245\n",
          "output_type": "stream"
        }
      ],
      "execution_count": 6
    },
    {
      "cell_type": "code",
      "source": "print(\"local minima\",x)",
      "metadata": {
        "trusted": true
      },
      "outputs": [
        {
          "name": "stdout",
          "text": "local minima -2.179174932771245\n",
          "output_type": "stream"
        }
      ],
      "execution_count": 7
    },
    {
      "cell_type": "code",
      "source": "",
      "metadata": {
        "trusted": true
      },
      "outputs": [],
      "execution_count": null
    }
  ]
}